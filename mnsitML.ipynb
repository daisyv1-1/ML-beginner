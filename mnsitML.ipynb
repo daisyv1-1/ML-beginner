{
  "nbformat": 4,
  "nbformat_minor": 0,
  "metadata": {
    "colab": {
      "provenance": [],
      "authorship_tag": "ABX9TyODmSooLK+dbnqKgqUs0XPx",
      "include_colab_link": true
    },
    "kernelspec": {
      "name": "python3",
      "display_name": "Python 3"
    },
    "language_info": {
      "name": "python"
    }
  },
  "cells": [
    {
      "cell_type": "markdown",
      "metadata": {
        "id": "view-in-github",
        "colab_type": "text"
      },
      "source": [
        "<a href=\"https://colab.research.google.com/github/daisyv1-1/ML-beginner/blob/main/mnsitML.ipynb\" target=\"_parent\"><img src=\"https://colab.research.google.com/assets/colab-badge.svg\" alt=\"Open In Colab\"/></a>"
      ]
    },
    {
      "cell_type": "code",
      "execution_count": 1,
      "metadata": {
        "colab": {
          "base_uri": "https://localhost:8080/"
        },
        "id": "xRRj_nqIE2FF",
        "outputId": "87a248c9-3c7e-4642-c684-c98fd1384746"
      },
      "outputs": [
        {
          "output_type": "stream",
          "name": "stdout",
          "text": [
            "Downloading data from https://storage.googleapis.com/tensorflow/tf-keras-datasets/mnist.npz\n",
            "11490434/11490434 [==============================] - 0s 0us/step\n",
            "Epoch 1/10\n",
            "1875/1875 [==============================] - 11s 6ms/step - loss: 0.1991 - accuracy: 0.9410\n",
            "Epoch 2/10\n",
            "1875/1875 [==============================] - 7s 4ms/step - loss: 0.0801 - accuracy: 0.9763\n",
            "Epoch 3/10\n",
            "1875/1875 [==============================] - 7s 4ms/step - loss: 0.0507 - accuracy: 0.9839\n",
            "Epoch 4/10\n",
            "1875/1875 [==============================] - 7s 4ms/step - loss: 0.0365 - accuracy: 0.9881\n",
            "Epoch 5/10\n",
            "1866/1875 [============================>.] - ETA: 0s - loss: 0.0263 - accuracy: 0.9918\n",
            "Reached 99% accuracy so cancelling training\n",
            "1875/1875 [==============================] - 7s 4ms/step - loss: 0.0264 - accuracy: 0.9918\n",
            "313/313 [==============================] - 1s 2ms/step - loss: 0.0728 - accuracy: 0.9779\n",
            "[0.0728008970618248, 0.9779000282287598]\n"
          ]
        }
      ],
      "source": [
        "#dataset of 28x28 images of handwritten data\n",
        "\n",
        "import tensorflow as tf\n",
        "mnist = tf.keras.datasets.mnist\n",
        "\n",
        "class myCallback(tf.keras.callbacks.Callback):\n",
        "  def on_epoch_end(self, epoch, logs={}):\n",
        "    if(logs.get('accuracy')>0.99):\n",
        "      print(\"\\nReached 99% accuracy so cancelling training\")\n",
        "      self.model.stop_training= True\n",
        "\n",
        "(x_train, y_train),(x_test, y_test) = mnist.load_data()\n",
        "x_train, x_test= x_train/255.0, x_test/255.0 \n",
        "callbacks=myCallback()\n",
        "\n",
        "model = tf.keras.models.Sequential([\n",
        "\n",
        "    tf.keras.layers.Flatten(input_shape=(28, 28)), tf.keras.layers.Dense(512, activation=tf.nn.relu),\n",
        "    tf.keras.layers.Dense(10, activation=tf.nn.softmax)\n",
        "\n",
        "])\n",
        "\n",
        "model.compile(optimizer='adam',\n",
        "              loss='sparse_categorical_crossentropy',\n",
        "              metrics=['accuracy'])\n",
        "\n",
        "model.fit(x_train, y_train, epochs=10, callbacks=[callbacks])\n",
        "print(model.evaluate(x_test, y_test))\n"
      ]
    }
  ]
}